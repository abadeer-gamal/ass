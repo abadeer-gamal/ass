{
 "cells": [
  {
   "cell_type": "markdown",
   "metadata": {
    "collapsed": true
   },
   "source": [
    "# Assignment 2\n",
    "Let's test your knowledge!"
   ]
  },
  {
   "cell_type": "markdown",
   "metadata": {},
   "source": [
    "_____\n",
    "**Use <code>for</code>, .split(), and <code>if</code> to create a Statement that will print out words that start with 's':**"
   ]
  },
  {
   "cell_type": "code",
   "execution_count": 1,
   "metadata": {},
   "outputs": [
    {
     "name": "stdout",
     "output_type": "stream",
     "text": [
      "start\n",
      "s\n",
      "sentence\n"
     ]
    }
   ],
   "source": [
    "st = \"Print only the words that start with s in this sentence\"\n",
    "for i in st.split():\n",
    "    if i [0]== 's':# see the frist letter in a sentence\n",
    "        print(i)\n"
   ]
  },
  {
   "cell_type": "code",
   "execution_count": 2,
   "metadata": {},
   "outputs": [],
   "source": [
    "st = 'Print only the words that start with s in this sentence'"
   ]
  },
  {
   "cell_type": "code",
   "execution_count": 3,
   "metadata": {},
   "outputs": [],
   "source": [
    "#Code here"
   ]
  },
  {
   "cell_type": "markdown",
   "metadata": {},
   "source": [
    "______\n",
    "**Use range() to print all the even numbers from 0 to 10.**"
   ]
  },
  {
   "cell_type": "code",
   "execution_count": 4,
   "metadata": {},
   "outputs": [
    {
     "name": "stdout",
     "output_type": "stream",
     "text": [
      "0\n",
      "2\n",
      "4\n",
      "6\n",
      "8\n"
     ]
    }
   ],
   "source": [
    " for num in range(0,10):\n",
    "     if num %2==0: \n",
    "            print(num)"
   ]
  },
  {
   "cell_type": "markdown",
   "metadata": {},
   "source": [
    "___\n",
    "**Use a List Comprehension to create a list of all numbers between 1 and 50 that are divisible by 3.**"
   ]
  },
  {
   "cell_type": "code",
   "execution_count": 5,
   "metadata": {},
   "outputs": [
    {
     "name": "stdout",
     "output_type": "stream",
     "text": [
      "[3, 6, 9, 12, 15, 18, 21, 24, 27, 30, 33, 36, 39, 42, 45, 48]\n"
     ]
    }
   ],
   "source": [
    "number_list=[x for x in range(1,50) if x %3 == 0]\n",
    "print(number_list)"
   ]
  },
  {
   "cell_type": "markdown",
   "metadata": {},
   "source": [
    "_____\n",
    "**Go through the string below and if the length of a word is even print \"even!\"**"
   ]
  },
  {
   "cell_type": "code",
   "execution_count": 6,
   "metadata": {},
   "outputs": [],
   "source": [
    "st = 'Print every word in this sentence that has an even number of letters'"
   ]
  },
  {
   "cell_type": "code",
   "execution_count": 8,
   "metadata": {},
   "outputs": [
    {
     "name": "stdout",
     "output_type": "stream",
     "text": [
      "word\n",
      "in\n",
      "this\n",
      "sentence\n",
      "that\n",
      "an\n",
      "even\n",
      "number\n",
      "of\n"
     ]
    }
   ],
   "source": [
    "st = \"Print every word in this sentence that has an even number of letters\"\n",
    "x=st.split(\" \")\n",
    "for i in x:\n",
    "    if len(i)%2 ==0:#see the length of words\n",
    "        print(i)"
   ]
  },
  {
   "cell_type": "markdown",
   "metadata": {},
   "source": [
    "____\n",
    "**Write a program that prints the integers from 1 to 100. But for multiples of three print \"Fizz\" instead of the number, and for the multiples of five print \"Buzz\". For numbers which are multiples of both three and five print \"FizzBuzz\".**"
   ]
  },
  {
   "cell_type": "code",
   "execution_count": 13,
   "metadata": {},
   "outputs": [
    {
     "name": "stdout",
     "output_type": "stream",
     "text": [
      "1\n",
      "2\n",
      "3 fizz\n",
      "4\n",
      "5 buzz\n",
      "6 fizz\n",
      "7\n",
      "8\n",
      "9 fizz\n",
      "10 buzz\n",
      "11\n",
      "12 fizz\n",
      "13\n",
      "14\n",
      "15 fizzbuzz\n",
      "16\n",
      "17\n",
      "18 fizz\n",
      "19\n",
      "20 buzz\n",
      "21 fizz\n",
      "22\n",
      "23\n",
      "24 fizz\n",
      "25 buzz\n",
      "26\n",
      "27 fizz\n",
      "28\n",
      "29\n",
      "30 fizzbuzz\n",
      "31\n",
      "32\n",
      "33 fizz\n",
      "34\n",
      "35 buzz\n",
      "36 fizz\n",
      "37\n",
      "38\n",
      "39 fizz\n",
      "40 buzz\n",
      "41\n",
      "42 fizz\n",
      "43\n",
      "44\n",
      "45 fizzbuzz\n",
      "46\n",
      "47\n",
      "48 fizz\n",
      "49\n",
      "50 buzz\n",
      "51 fizz\n",
      "52\n",
      "53\n",
      "54 fizz\n",
      "55 buzz\n",
      "56\n",
      "57 fizz\n",
      "58\n",
      "59\n",
      "60 fizzbuzz\n",
      "61\n",
      "62\n",
      "63 fizz\n",
      "64\n",
      "65 buzz\n",
      "66 fizz\n",
      "67\n",
      "68\n",
      "69 fizz\n",
      "70 buzz\n",
      "71\n",
      "72 fizz\n",
      "73\n",
      "74\n",
      "75 fizzbuzz\n",
      "76\n",
      "77\n",
      "78 fizz\n",
      "79\n",
      "80 buzz\n",
      "81 fizz\n",
      "82\n",
      "83\n",
      "84 fizz\n",
      "85 buzz\n",
      "86\n",
      "87 fizz\n",
      "88\n",
      "89\n",
      "90 fizzbuzz\n",
      "91\n",
      "92\n",
      "93 fizz\n",
      "94\n",
      "95 buzz\n",
      "96 fizz\n",
      "97\n",
      "98\n",
      "99 fizz\n"
     ]
    }
   ],
   "source": [
    "for i in range (1,100):\n",
    "    if(i%3==0 )and(i%5==0):#when the number dividing 5 or 3\n",
    "        print(i,\"fizzbuzz\")\n",
    "    elif(i%3==0 ):#when the number dividing  3\n",
    "        print(i,\"fizz\")\n",
    "    elif(i%5==0 ):#when the number dividing 5 \n",
    "        print(i,\"buzz\")\n",
    "    else: \n",
    "        print(i)\n"
   ]
  },
  {
   "cell_type": "markdown",
   "metadata": {},
   "source": [
    "____\n",
    "**Use List Comprehension to create a list of the first letters of every word in the string below:**"
   ]
  },
  {
   "cell_type": "code",
   "execution_count": 10,
   "metadata": {},
   "outputs": [],
   "source": [
    "st = 'Create a list of the first letters of every word in this string'"
   ]
  },
  {
   "cell_type": "code",
   "execution_count": 11,
   "metadata": {},
   "outputs": [
    {
     "name": "stdout",
     "output_type": "stream",
     "text": [
      "['C', 'a', 'l', 'o', 't', 'f', 'l', 'o', 'e', 'w', 'i', 't', 's']\n"
     ]
    }
   ],
   "source": [
    "st = \"Create a list of the first letters of every word in this string\"\n",
    "my_list=[word[0]for word in st.split()]#take the first when there is a space\n",
    "print(my_list)"
   ]
  },
  {
   "cell_type": "markdown",
   "metadata": {},
   "source": [
    "### Great Job!"
   ]
  },
  {
   "cell_type": "code",
   "execution_count": null,
   "metadata": {},
   "outputs": [],
   "source": []
  }
 ],
 "metadata": {
  "kernelspec": {
   "display_name": "Python 3 (ipykernel)",
   "language": "python",
   "name": "python3"
  },
  "language_info": {
   "codemirror_mode": {
    "name": "ipython",
    "version": 3
   },
   "file_extension": ".py",
   "mimetype": "text/x-python",
   "name": "python",
   "nbconvert_exporter": "python",
   "pygments_lexer": "ipython3",
   "version": "3.9.12"
  }
 },
 "nbformat": 4,
 "nbformat_minor": 1
}
